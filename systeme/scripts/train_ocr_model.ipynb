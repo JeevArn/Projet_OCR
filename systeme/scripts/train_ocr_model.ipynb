{
 "cells": [
  {
   "cell_type": "markdown",
   "metadata": {},
   "source": [
    "# Entraînement d'un modèle neuronal pour la reconnaissance de caractères"
   ]
  },
  {
   "cell_type": "markdown",
   "metadata": {},
   "source": [
    "Dans ce notebook, nous entraînons un modèle neuronal à reconnaître des caractères à partir d'un jeu de données composé d'images de mots auxquelles sont associées leurs transcriptions. Pour la décomposition des images de mots en images de caractères, nous utilisons la librairie `PyTesseract` qui est un outil python pour l'OCR."
   ]
  },
  {
   "cell_type": "code",
   "execution_count": 2,
   "metadata": {},
   "outputs": [],
   "source": [
    "import os\n",
    "import numpy as np\n",
    "import torch\n",
    "import torch.nn as nn\n",
    "import torch.optim as optim\n",
    "from torchvision import transforms\n",
    "from sklearn.model_selection import train_test_split\n",
    "from sklearn.preprocessing import LabelEncoder\n",
    "from PIL import Image, ImageFont, ImageDraw\n",
    "from PIL import Image\n",
    "import cv2\n",
    "import pytesseract\n",
    "from pytesseract import Output\n",
    "from tensorflow.keras.utils import to_categorical\n",
    "from tensorflow.keras.models import Sequential, load_model\n",
    "from tensorflow.keras.layers import Conv2D, MaxPooling2D, Flatten, Dense, Dropout\n",
    "import matplotlib.pyplot as plt"
   ]
  },
  {
   "cell_type": "markdown",
   "metadata": {},
   "source": [
    "### 1. Chargement des données"
   ]
  },
  {
   "cell_type": "code",
   "execution_count": 3,
   "metadata": {},
   "outputs": [],
   "source": [
    "# Chemin vers le fichier texte contenant les labels et les chemins vers les images\n",
    "file_path = \"../../../Projet/data/12.txt\"\n",
    "with open(file_path, \"r\") as file:\n",
    "    lines = file.readlines()\n",
    "\n",
    "# Extraire les labels et les chemins vers les images\n",
    "tuples = [(l.split('`')[0], l.split('`')[1].strip()) for l in lines]\n",
    "\n",
    "# Vérification de l'existence des fichiers\n",
    "result = [(f\"../../../Projet/data/{item[0]}\", item[1], os.path.exists(f\"../../../Projet/data/{item[0]}\")) for item in tuples]\n",
    "\n",
    "# Filtrer les données existantes\n",
    "data = []\n",
    "for file, label, exists in result:\n",
    "    if exists:\n",
    "        data.append((file, label))"
   ]
  },
  {
   "cell_type": "code",
   "execution_count": 4,
   "metadata": {},
   "outputs": [
    {
     "data": {
      "text/plain": [
       "50000"
      ]
     },
     "execution_count": 4,
     "metadata": {},
     "output_type": "execute_result"
    }
   ],
   "source": [
    "dataset = data[200000:250000]\n",
    "len(dataset)"
   ]
  },
  {
   "cell_type": "markdown",
   "metadata": {},
   "source": [
    "### 2. Découpage du mot en caractères"
   ]
  },
  {
   "cell_type": "markdown",
   "metadata": {},
   "source": [
    "- **Fonction pour segmenter une image de mot en images des caractères**"
   ]
  },
  {
   "cell_type": "code",
   "execution_count": 5,
   "metadata": {},
   "outputs": [],
   "source": [
    "def split_text_into_characters_tesseract(image_path):\n",
    "    \"\"\"\n",
    "    Découpe une image de mot en images de caractères individuels en utilisant PyTesseract.\n",
    "    \n",
    "    Parameters:\n",
    "        image_path (str): Chemin vers l'image du mot.\n",
    "    \n",
    "    Returns:\n",
    "        list: Liste des images des caractères en format PIL.\n",
    "    \"\"\"\n",
    "    # Charger l'image\n",
    "    image = cv2.imread(image_path)\n",
    "\n",
    "    # Convertir en niveaux de gris\n",
    "    gray = cv2.cvtColor(image, cv2.COLOR_BGR2GRAY)\n",
    "\n",
    "    # Binarisation des pixels (0 si prche de noir ; 255 si proche de blanc)\n",
    "    _, binary_image = cv2.threshold(gray, 0, 255, cv2.THRESH_BINARY | cv2.THRESH_OTSU)\n",
    "\n",
    "    # Utiliser PyTesseract pour détecter les caractères\n",
    "    boxes = pytesseract.image_to_boxes(binary_image, config=\"--psm 7\")\n",
    "\n",
    "    # Initialiser la liste des images des caractères\n",
    "    characters = []\n",
    "\n",
    "    # Vérifier si des boxes ont été détectées\n",
    "    if boxes:\n",
    "\n",
    "        # Parcourir les boxes et extraire les images des caractères\n",
    "        for box in boxes.splitlines():\n",
    "\n",
    "            # Spliter les données de la box\n",
    "            box_data = box.split()\n",
    "\n",
    "            # Vérifier que la box est bien au format attendu (char, x1, y1, x2, y2, page)\n",
    "            if len(box_data) == 6:\n",
    "\n",
    "                # Extraire les caractères et les coordonnées de la box\n",
    "                char, x, y, w, h, _ = box_data\n",
    "\n",
    "                # Convertir les coordonnées en entiers\n",
    "                x, y, w, h = map(int, [x, y, w, h])\n",
    "\n",
    "                # Ajustement des coordonnées entre pytesseract et cv2 (origine différente)           \n",
    "                y = image.shape[0] - y\n",
    "                h = image.shape[0] - h\n",
    "\n",
    "                # Découper l'image du caractère\n",
    "                char_image = binary_image[h:y, x:w]\n",
    "\n",
    "                # Convertir en format PIL\n",
    "                char_pil = Image.fromarray(char_image)\n",
    "                characters.append(char_pil)\n",
    "\n",
    "    return characters"
   ]
  },
  {
   "cell_type": "markdown",
   "metadata": {},
   "source": [
    "- **Application de la fonction de découpage d'un mot en caractères au jeu de données**"
   ]
  },
  {
   "cell_type": "code",
   "execution_count": 6,
   "metadata": {},
   "outputs": [
    {
     "name": "stdout",
     "output_type": "stream",
     "text": [
      "Bonnes correspondances = 36997\n",
      "Mauvaises correspondances = 13003\n",
      "Caractères collés = 8522\n",
      "Caractères coupés = 4481\n"
     ]
    }
   ],
   "source": [
    "def process_dataset_tesseract(dataset):\n",
    "    \"\"\"\n",
    "    Traite un jeu de données pour découper les images de mots en images de caractères avec PyTesseract.\n",
    "    \n",
    "    Parameters:\n",
    "        dataset (list): Liste de tuples (chemin_image, mot).\n",
    "    \n",
    "    Returns:\n",
    "        list: Liste de tuples ([images des caractères], [caractères]).\n",
    "    \"\"\"\n",
    "\n",
    "    # Initialiser la liste des données traitées\n",
    "    processed_data = []\n",
    "\n",
    "    # Initialiser les compteurs d'erreurs de correspondance et de découpage de caractères\n",
    "    wrong_corr = 0\n",
    "    caracteres_colles = 0\n",
    "    caracteres_coupes = 0\n",
    "\n",
    "    # Parcourir les données du jeu de données\n",
    "    for image_path, word in dataset:\n",
    "\n",
    "        # Découper l'image en caractères à l'aide de la fonction définie précédemment\n",
    "        character_images = split_text_into_characters_tesseract(image_path)\n",
    "\n",
    "        # Si le nombre de caractères détectés correspond au nombre de caractères du mot\n",
    "        if len(character_images) == len(word):\n",
    "\n",
    "            # Associer les images des caractères au mot correspondant et ajouter le tuple à processed_data\n",
    "            processed_data.append((character_images, list(word)))\n",
    "        \n",
    "        # Si le nombre de caractères détectés ne correspond pas au mot\n",
    "        else:\n",
    "\n",
    "            # Incrémenter le compteur d'erreurs de correspondance\n",
    "            wrong_corr += 1\n",
    "            if len(character_images) < len(word):\n",
    "                caracteres_colles += 1\n",
    "            if len(character_images) > len(word):\n",
    "                caracteres_coupes += 1\n",
    "    \n",
    "    # Afficher les résultats de correspondances\n",
    "    print(f\"Bonnes correspondances = {len(processed_data)}\")\n",
    "    print(f\"Mauvaises correspondances = {wrong_corr}\")\n",
    "    print(f\"Caractères collés = {caracteres_colles}\")\n",
    "    print(f\"Caractères coupés = {caracteres_coupes}\")\n",
    "\n",
    "    return processed_data\n",
    "\n",
    "processed_dataset = process_dataset_tesseract(dataset)"
   ]
  },
  {
   "cell_type": "markdown",
   "metadata": {},
   "source": [
    "### 3. Reconnaissance des caractères du mot"
   ]
  },
  {
   "cell_type": "markdown",
   "metadata": {},
   "source": [
    "- **Préparer les données**"
   ]
  },
  {
   "cell_type": "code",
   "execution_count": 7,
   "metadata": {},
   "outputs": [],
   "source": [
    "def prepare_data(processed_dataset, image_size=(28, 28)):\n",
    "    \"\"\"\n",
    "    Transforme les données traitées en un format adapté pour entraîner un modèle neuronal.\n",
    "    \n",
    "    Parameters:\n",
    "        processed_dataset (list): Liste de tuples ([images des caractères], [caractères]).\n",
    "        image_size (tuple): Dimensions des images après redimensionnement (par défaut 28x28).\n",
    "    \n",
    "    Returns:\n",
    "        tuple: (X, y) où X est un tableau numpy des images et y les étiquettes correspondantes.\n",
    "    \"\"\"\n",
    "\n",
    "    # Initialiser les listes pour les images et les étiquettes\n",
    "    X = []\n",
    "    y = []\n",
    "\n",
    "    # Parcourir tous les tuples du jeu de données\n",
    "    for character_images, word_characters in processed_dataset:\n",
    "\n",
    "        # Parcourir les images et les caractères de chaque mot\n",
    "        for img, char in zip(character_images, word_characters):\n",
    "\n",
    "            # Redimensionner l'image à la taille spécifiée\n",
    "            img_resized = img.resize(image_size)\n",
    "\n",
    "            # Convertir en tableau numpy\n",
    "            img_array = np.array(img_resized)\n",
    "\n",
    "            # Normaliser les valeurs des pixels (0 pour 0 et 1 pour 225)\n",
    "            img_normalized = img_array / 255.0\n",
    "\n",
    "            # Ajouter l'image à la liste des images et l'étiquette à la liste des étiquettes\n",
    "            X.append(img_normalized)\n",
    "            y.append(char)\n",
    "\n",
    "    # Convertir la liste d'images en tableau numpy\n",
    "    X = np.array(X)\n",
    "\n",
    "    # Ajouter automatiquement la taille du tableau en 1er argument et la dimensions des canaux (dans notre cas en niveaux de gris donc 1) en dernier argument\n",
    "    X = X.reshape(-1, image_size[0], image_size[1], 1)\n",
    "\n",
    "    # Convertir la liste des étiquettes en tableau numpy\n",
    "    y = np.array(y)\n",
    "\n",
    "    return X, y\n",
    "\n",
    "# Préparer les données\n",
    "image_size = (28, 28)\n",
    "X, y = prepare_data(processed_dataset, image_size=image_size)"
   ]
  },
  {
   "cell_type": "code",
   "execution_count": 8,
   "metadata": {},
   "outputs": [
    {
     "data": {
      "text/plain": [
       "array(['U', 'n', 'a', ..., 'a', 'l', 's'], dtype='<U1')"
      ]
     },
     "execution_count": 8,
     "metadata": {},
     "output_type": "execute_result"
    }
   ],
   "source": [
    "y"
   ]
  },
  {
   "cell_type": "code",
   "execution_count": 9,
   "metadata": {},
   "outputs": [],
   "source": [
    "# Sauvegarde au format .npy\n",
    "np.save('classes.npy', y)"
   ]
  },
  {
   "cell_type": "code",
   "execution_count": 10,
   "metadata": {},
   "outputs": [],
   "source": [
    "# Encoder les étiquettes\n",
    "label_encoder = LabelEncoder()\n",
    "\n",
    "# Convertir les caractères en indices numériques\n",
    "y_encoded = label_encoder.fit_transform(y)\n",
    "\n",
    "# Convertir les étiquettes en vecteurs one-hot\n",
    "y_one_hot = to_categorical(y_encoded)"
   ]
  },
  {
   "cell_type": "markdown",
   "metadata": {},
   "source": [
    "- **Créer le modèle**"
   ]
  },
  {
   "cell_type": "code",
   "execution_count": 11,
   "metadata": {},
   "outputs": [
    {
     "name": "stderr",
     "output_type": "stream",
     "text": [
      "/home/amandine/newenv/lib/python3.11/site-packages/keras/src/layers/convolutional/base_conv.py:107: UserWarning: Do not pass an `input_shape`/`input_dim` argument to a layer. When using Sequential models, prefer using an `Input(shape)` object as the first layer in the model instead.\n",
      "  super().__init__(activity_regularizer=activity_regularizer, **kwargs)\n",
      "2025-01-24 19:53:37.908131: E external/local_xla/xla/stream_executor/cuda/cuda_driver.cc:152] failed call to cuInit: INTERNAL: CUDA error: Failed call to cuInit: UNKNOWN ERROR (303)\n"
     ]
    }
   ],
   "source": [
    "def create_character_recognition_model(input_shape, nb_classes):\n",
    "    \"\"\"\n",
    "    Crée un modèle CNN pour la reconnaissance de caractères.\n",
    "    \n",
    "    Parameters:\n",
    "        input_shape (tuple): Dimensions de l'image d'entrée (hauteur, largeur, canaux).\n",
    "        nb_classes (int): Nombre total de classes (caractères uniques).\n",
    "    \n",
    "    Returns:\n",
    "        model: Modèle de reconnaissance de caractères.\n",
    "    \"\"\"\n",
    "\n",
    "    # Créer une séquence de couches pour le modèle\n",
    "    model = Sequential([\n",
    "\n",
    "        # Première couche de convolution (couche d'entrée)\n",
    "        Conv2D(32, (3, 3), activation='relu', input_shape=input_shape),\n",
    "\n",
    "        # Réduire les dimensions de l'image\n",
    "        MaxPooling2D((2, 2)),\n",
    "\n",
    "        # Deuxième couche de convolution\n",
    "        Conv2D(64, (3, 3), activation='relu'),\n",
    "\n",
    "        # Réduire les dimensions de l'image\n",
    "        MaxPooling2D((2, 2)),\n",
    "\n",
    "        # Transformer les sorties 2D des couches de convolution et de pooling en un vecteur à 1 dimension\n",
    "        Flatten(),\n",
    "\n",
    "        # Couche dense connectée à toutes les sorties précédentes\n",
    "        Dense(128, activation='relu'),\n",
    "\n",
    "        # Couche de dropout pour réduire le sur-apprentissage\n",
    "        Dropout(0.5),\n",
    "\n",
    "        # Couche de sortie\n",
    "        Dense(nb_classes, activation='softmax'),\n",
    "    ])\n",
    "\n",
    "    return model\n",
    "\n",
    "# Définir la taille des images d'entrée avec le canal de niveaux de gris\n",
    "input_shape = (image_size[0], image_size[1], 1)\n",
    "\n",
    "# Nombre total de caractères uniques dans le jeu de données\n",
    "num_classes = len(label_encoder.classes_)\n",
    "\n",
    "# Créer le modèle de reconnaissance de caractères\n",
    "model = create_character_recognition_model(input_shape, num_classes)\n",
    "\n",
    "# Compiler le modèle\n",
    "model.compile(optimizer='adam', loss='categorical_crossentropy', metrics=['accuracy'])"
   ]
  },
  {
   "cell_type": "markdown",
   "metadata": {},
   "source": [
    "- **Séparation train/test**"
   ]
  },
  {
   "cell_type": "code",
   "execution_count": 12,
   "metadata": {},
   "outputs": [],
   "source": [
    "# Diviser les données en ensembles d'entraînement et de test\n",
    "X_train, X_test, y_train, y_test = train_test_split(X, y_one_hot, test_size=0.2, random_state=42)"
   ]
  },
  {
   "cell_type": "markdown",
   "metadata": {},
   "source": [
    "- **Entraînement du modèle**"
   ]
  },
  {
   "cell_type": "code",
   "execution_count": 13,
   "metadata": {},
   "outputs": [
    {
     "name": "stderr",
     "output_type": "stream",
     "text": [
      "2025-01-24 19:53:53.039038: W external/local_xla/xla/tsl/framework/cpu_allocator_impl.cc:83] Allocation of 849122176 exceeds 10% of free system memory.\n",
      "2025-01-24 19:53:54.126563: W external/local_xla/xla/tsl/framework/cpu_allocator_impl.cc:83] Allocation of 56319328 exceeds 10% of free system memory.\n"
     ]
    },
    {
     "name": "stdout",
     "output_type": "stream",
     "text": [
      "Epoch 1/20\n",
      "\u001b[1m8456/8462\u001b[0m \u001b[32m━━━━━━━━━━━━━━━━━━━\u001b[0m\u001b[37m━\u001b[0m \u001b[1m0s\u001b[0m 9ms/step - accuracy: 0.5413 - loss: 1.8106"
     ]
    },
    {
     "name": "stderr",
     "output_type": "stream",
     "text": [
      "2025-01-24 19:55:09.211826: W external/local_xla/xla/tsl/framework/cpu_allocator_impl.cc:83] Allocation of 212282112 exceeds 10% of free system memory.\n"
     ]
    },
    {
     "name": "stdout",
     "output_type": "stream",
     "text": [
      "\u001b[1m8462/8462\u001b[0m \u001b[32m━━━━━━━━━━━━━━━━━━━━\u001b[0m\u001b[37m\u001b[0m \u001b[1m81s\u001b[0m 9ms/step - accuracy: 0.5413 - loss: 1.8103 - val_accuracy: 0.7040 - val_loss: 1.1287\n",
      "Epoch 2/20\n",
      "\u001b[1m8462/8462\u001b[0m \u001b[32m━━━━━━━━━━━━━━━━━━━━\u001b[0m\u001b[37m\u001b[0m \u001b[1m80s\u001b[0m 9ms/step - accuracy: 0.6719 - loss: 1.2731 - val_accuracy: 0.7269 - val_loss: 1.0461\n",
      "Epoch 3/20\n",
      "\u001b[1m8462/8462\u001b[0m \u001b[32m━━━━━━━━━━━━━━━━━━━━\u001b[0m\u001b[37m\u001b[0m \u001b[1m83s\u001b[0m 10ms/step - accuracy: 0.6953 - loss: 1.1756 - val_accuracy: 0.7379 - val_loss: 1.0089\n",
      "Epoch 4/20\n",
      "\u001b[1m8462/8462\u001b[0m \u001b[32m━━━━━━━━━━━━━━━━━━━━\u001b[0m\u001b[37m\u001b[0m \u001b[1m78s\u001b[0m 9ms/step - accuracy: 0.7074 - loss: 1.1260 - val_accuracy: 0.7360 - val_loss: 0.9997\n",
      "Epoch 5/20\n",
      "\u001b[1m8462/8462\u001b[0m \u001b[32m━━━━━━━━━━━━━━━━━━━━\u001b[0m\u001b[37m\u001b[0m \u001b[1m82s\u001b[0m 10ms/step - accuracy: 0.7136 - loss: 1.0976 - val_accuracy: 0.7435 - val_loss: 0.9866\n",
      "Epoch 6/20\n",
      "\u001b[1m8462/8462\u001b[0m \u001b[32m━━━━━━━━━━━━━━━━━━━━\u001b[0m\u001b[37m\u001b[0m \u001b[1m82s\u001b[0m 10ms/step - accuracy: 0.7198 - loss: 1.0751 - val_accuracy: 0.7450 - val_loss: 0.9698\n",
      "Epoch 7/20\n",
      "\u001b[1m8462/8462\u001b[0m \u001b[32m━━━━━━━━━━━━━━━━━━━━\u001b[0m\u001b[37m\u001b[0m \u001b[1m82s\u001b[0m 10ms/step - accuracy: 0.7218 - loss: 1.0570 - val_accuracy: 0.7425 - val_loss: 0.9762\n",
      "Epoch 8/20\n",
      "\u001b[1m8462/8462\u001b[0m \u001b[32m━━━━━━━━━━━━━━━━━━━━\u001b[0m\u001b[37m\u001b[0m \u001b[1m82s\u001b[0m 10ms/step - accuracy: 0.7240 - loss: 1.0477 - val_accuracy: 0.7481 - val_loss: 0.9642\n",
      "Epoch 9/20\n",
      "\u001b[1m8462/8462\u001b[0m \u001b[32m━━━━━━━━━━━━━━━━━━━━\u001b[0m\u001b[37m\u001b[0m \u001b[1m82s\u001b[0m 10ms/step - accuracy: 0.7268 - loss: 1.0352 - val_accuracy: 0.7482 - val_loss: 0.9664\n",
      "Epoch 10/20\n",
      "\u001b[1m8462/8462\u001b[0m \u001b[32m━━━━━━━━━━━━━━━━━━━━\u001b[0m\u001b[37m\u001b[0m \u001b[1m82s\u001b[0m 10ms/step - accuracy: 0.7300 - loss: 1.0179 - val_accuracy: 0.7466 - val_loss: 0.9737\n",
      "Epoch 11/20\n",
      "\u001b[1m8462/8462\u001b[0m \u001b[32m━━━━━━━━━━━━━━━━━━━━\u001b[0m\u001b[37m\u001b[0m \u001b[1m82s\u001b[0m 10ms/step - accuracy: 0.7300 - loss: 1.0191 - val_accuracy: 0.7469 - val_loss: 0.9837\n",
      "Epoch 12/20\n",
      "\u001b[1m8462/8462\u001b[0m \u001b[32m━━━━━━━━━━━━━━━━━━━━\u001b[0m\u001b[37m\u001b[0m \u001b[1m82s\u001b[0m 10ms/step - accuracy: 0.7320 - loss: 1.0061 - val_accuracy: 0.7468 - val_loss: 0.9660\n",
      "Epoch 13/20\n",
      "\u001b[1m8462/8462\u001b[0m \u001b[32m━━━━━━━━━━━━━━━━━━━━\u001b[0m\u001b[37m\u001b[0m \u001b[1m82s\u001b[0m 10ms/step - accuracy: 0.7358 - loss: 0.9919 - val_accuracy: 0.7495 - val_loss: 0.9697\n",
      "Epoch 14/20\n",
      "\u001b[1m8462/8462\u001b[0m \u001b[32m━━━━━━━━━━━━━━━━━━━━\u001b[0m\u001b[37m\u001b[0m \u001b[1m82s\u001b[0m 10ms/step - accuracy: 0.7343 - loss: 0.9943 - val_accuracy: 0.7455 - val_loss: 0.9815\n",
      "Epoch 15/20\n",
      "\u001b[1m8462/8462\u001b[0m \u001b[32m━━━━━━━━━━━━━━━━━━━━\u001b[0m\u001b[37m\u001b[0m \u001b[1m82s\u001b[0m 10ms/step - accuracy: 0.7350 - loss: 0.9977 - val_accuracy: 0.7478 - val_loss: 0.9721\n",
      "Epoch 16/20\n",
      "\u001b[1m8462/8462\u001b[0m \u001b[32m━━━━━━━━━━━━━━━━━━━━\u001b[0m\u001b[37m\u001b[0m \u001b[1m82s\u001b[0m 10ms/step - accuracy: 0.7342 - loss: 0.9934 - val_accuracy: 0.7492 - val_loss: 0.9802\n",
      "Epoch 17/20\n",
      "\u001b[1m8462/8462\u001b[0m \u001b[32m━━━━━━━━━━━━━━━━━━━━\u001b[0m\u001b[37m\u001b[0m \u001b[1m82s\u001b[0m 10ms/step - accuracy: 0.7370 - loss: 0.9825 - val_accuracy: 0.7486 - val_loss: 0.9818\n",
      "Epoch 18/20\n",
      "\u001b[1m8462/8462\u001b[0m \u001b[32m━━━━━━━━━━━━━━━━━━━━\u001b[0m\u001b[37m\u001b[0m \u001b[1m82s\u001b[0m 10ms/step - accuracy: 0.7384 - loss: 0.9743 - val_accuracy: 0.7474 - val_loss: 0.9833\n",
      "Epoch 19/20\n",
      "\u001b[1m8462/8462\u001b[0m \u001b[32m━━━━━━━━━━━━━━━━━━━━\u001b[0m\u001b[37m\u001b[0m \u001b[1m82s\u001b[0m 10ms/step - accuracy: 0.7390 - loss: 0.9750 - val_accuracy: 0.7473 - val_loss: 0.9709\n",
      "Epoch 20/20\n",
      "\u001b[1m8462/8462\u001b[0m \u001b[32m━━━━━━━━━━━━━━━━━━━━\u001b[0m\u001b[37m\u001b[0m \u001b[1m81s\u001b[0m 10ms/step - accuracy: 0.7375 - loss: 0.9752 - val_accuracy: 0.7475 - val_loss: 0.9858\n"
     ]
    }
   ],
   "source": [
    "# Entraîner le modèle\n",
    "history = model.fit(\n",
    "    X_train, y_train,\n",
    "    validation_data=(X_test, y_test),\n",
    "    epochs=20,\n",
    "    batch_size=32,\n",
    "    verbose=1\n",
    ")"
   ]
  },
  {
   "cell_type": "markdown",
   "metadata": {},
   "source": [
    "- **Prédiction d'un mot à partir d'une image**"
   ]
  },
  {
   "cell_type": "code",
   "execution_count": 14,
   "metadata": {},
   "outputs": [
    {
     "name": "stdout",
     "output_type": "stream",
     "text": [
      "\u001b[1m1/1\u001b[0m \u001b[32m━━━━━━━━━━━━━━━━━━━━\u001b[0m\u001b[37m\u001b[0m \u001b[1m0s\u001b[0m 147ms/step\n",
      "\u001b[1m1/1\u001b[0m \u001b[32m━━━━━━━━━━━━━━━━━━━━\u001b[0m\u001b[37m\u001b[0m \u001b[1m0s\u001b[0m 63ms/step\n",
      "\u001b[1m1/1\u001b[0m \u001b[32m━━━━━━━━━━━━━━━━━━━━\u001b[0m\u001b[37m\u001b[0m \u001b[1m0s\u001b[0m 64ms/step\n",
      "\u001b[1m1/1\u001b[0m \u001b[32m━━━━━━━━━━━━━━━━━━━━\u001b[0m\u001b[37m\u001b[0m \u001b[1m0s\u001b[0m 63ms/step\n",
      "\u001b[1m1/1\u001b[0m \u001b[32m━━━━━━━━━━━━━━━━━━━━\u001b[0m\u001b[37m\u001b[0m \u001b[1m0s\u001b[0m 64ms/step\n",
      "\u001b[1m1/1\u001b[0m \u001b[32m━━━━━━━━━━━━━━━━━━━━\u001b[0m\u001b[37m\u001b[0m \u001b[1m0s\u001b[0m 62ms/step\n",
      "\u001b[1m1/1\u001b[0m \u001b[32m━━━━━━━━━━━━━━━━━━━━\u001b[0m\u001b[37m\u001b[0m \u001b[1m0s\u001b[0m 64ms/step\n",
      "\u001b[1m1/1\u001b[0m \u001b[32m━━━━━━━━━━━━━━━━━━━━\u001b[0m\u001b[37m\u001b[0m \u001b[1m0s\u001b[0m 67ms/step\n",
      "\u001b[1m1/1\u001b[0m \u001b[32m━━━━━━━━━━━━━━━━━━━━\u001b[0m\u001b[37m\u001b[0m \u001b[1m0s\u001b[0m 71ms/step\n",
      "Mot prédit : agneenent\n"
     ]
    }
   ],
   "source": [
    "def predict_word(image_path, model, label_encoder, image_size=(28, 28)):\n",
    "    \"\"\"\n",
    "    Prédit un mot à partir d'une image de mot.\n",
    "    \n",
    "    Parameters:\n",
    "        image_path (str): Chemin vers l'image du mot.\n",
    "        model: Modèle entraîné pour la reconnaissance de caractères.\n",
    "        label_encoder: Encodeur pour convertir les prédictions en caractères.\n",
    "        image_size (tuple): Dimensions des images pour le modèle.\n",
    "    \n",
    "    Returns:\n",
    "        str: Mot prédit.\n",
    "    \"\"\"\n",
    "    # Découper l'image en caractères\n",
    "    character_images = split_text_into_characters_tesseract(image_path)\n",
    "\n",
    "    predicted_word = \"\"\n",
    "    for img in character_images:\n",
    "        # Prétraiter l'image\n",
    "        img_resized = img.resize(image_size)\n",
    "        img_array = np.array(img_resized) / 255.0\n",
    "        img_array = img_array.reshape(1, image_size[0], image_size[1], 1)\n",
    "\n",
    "        # Prédire le caractère\n",
    "        prediction = model.predict(img_array)\n",
    "        char = label_encoder.inverse_transform([np.argmax(prediction)])[0]\n",
    "\n",
    "        predicted_word += char\n",
    "\n",
    "    return predicted_word\n",
    "\n",
    "# Prédire un mot à partir d'une image (exemple : kujuj.png)\n",
    "predicted_word = predict_word(\"../data/images/word3.png\", model, label_encoder)\n",
    "print(f\"Mot prédit : {predicted_word}\")\n"
   ]
  },
  {
   "cell_type": "code",
   "execution_count": 15,
   "metadata": {},
   "outputs": [
    {
     "data": {
      "image/png": "[encoded data removed]",
      "text/plain": [
       "<Figure size 1200x600 with 2 Axes>"
      ]
     },
     "metadata": {},
     "output_type": "display_data"
    }
   ],
   "source": [
    "def plot_training_history(history):\n",
    "    \"\"\"\n",
    "    Affiche l'accuracy et la perte du modèle au cours de l'entraînement.\n",
    "    \n",
    "    Parameters:\n",
    "        history: Objet History retourné par model.fit().\n",
    "    \"\"\"\n",
    "\n",
    "    # Extraire les données de l'entraînement\n",
    "    acc = history.history['accuracy']\n",
    "    val_acc = history.history['val_accuracy']\n",
    "    loss = history.history['loss']\n",
    "    val_loss = history.history['val_loss']\n",
    "    \n",
    "    epochs = range(1, len(acc) + 1)\n",
    "\n",
    "    # Afficher l'accuracy\n",
    "    plt.figure(figsize=(12, 6))\n",
    "    plt.subplot(1, 2, 1)\n",
    "    plt.plot(epochs, acc, label='Train Accuracy')\n",
    "    plt.plot(epochs, val_acc, label='Test Accuracy')\n",
    "    plt.title('Accuracy sur les ensembles de train et de test')\n",
    "    plt.xlabel('Epochs')\n",
    "    plt.ylabel('Accuracy')\n",
    "    plt.legend()\n",
    "\n",
    "    # Afficher la loss\n",
    "    plt.subplot(1, 2, 2)\n",
    "    plt.plot(epochs, loss, label='Train Loss')\n",
    "    plt.plot(epochs, val_loss, label='Test Loss')\n",
    "    plt.title('Loss sur les ensembles de train et de test')\n",
    "    plt.xlabel('Epochs')\n",
    "    plt.ylabel('Loss')\n",
    "    plt.legend()\n",
    "\n",
    "    plt.tight_layout()\n",
    "    plt.show()\n",
    "\n",
    "# Afficher les courbes\n",
    "plot_training_history(history)"
   ]
  },
  {
   "cell_type": "code",
   "execution_count": 16,
   "metadata": {},
   "outputs": [
    {
     "name": "stderr",
     "output_type": "stream",
     "text": [
      "WARNING:absl:You are saving your model as an HDF5 file via `model.save()` or `keras.saving.save_model(model)`. This file format is considered legacy. We recommend using instead the native Keras format, e.g. `model.save('my_model.keras')` or `keras.saving.save_model(model, 'my_model.keras')`. \n"
     ]
    }
   ],
   "source": [
    "model.save('../models/OCR_50000w_20e_5.h5')"
   ]
  },
  {
   "cell_type": "markdown",
   "metadata": {},
   "source": [
    "-------------------------------------------"
   ]
  },
  {
   "cell_type": "code",
   "execution_count": 17,
   "metadata": {},
   "outputs": [
    {
     "name": "stderr",
     "output_type": "stream",
     "text": [
      "WARNING:absl:Compiled the loaded model, but the compiled metrics have yet to be built. `model.compile_metrics` will be empty until you train or evaluate the model.\n"
     ]
    }
   ],
   "source": [
    "# Charger le modèle sauvegardé\n",
    "model = load_model('../models/OCR_50000w_20e_5.h5')"
   ]
  },
  {
   "cell_type": "code",
   "execution_count": 18,
   "metadata": {},
   "outputs": [
    {
     "name": "stderr",
     "output_type": "stream",
     "text": [
      "2025-01-24 20:21:41.206225: W external/local_xla/xla/tsl/framework/cpu_allocator_impl.cc:83] Allocation of 212282112 exceeds 10% of free system memory.\n"
     ]
    },
    {
     "name": "stdout",
     "output_type": "stream",
     "text": [
      "\u001b[1m2116/2116\u001b[0m \u001b[32m━━━━━━━━━━━━━━━━━━━━\u001b[0m\u001b[37m\u001b[0m \u001b[1m9s\u001b[0m 4ms/step - accuracy: 0.7480 - loss: 0.9837\n",
      "Validation Loss: 0.9857661724090576\n",
      "Validation Accuracy: 0.7474886178970337\n"
     ]
    }
   ],
   "source": [
    "# Évaluer le modèle sur les données de test\n",
    "val_loss, val_accuracy = model.evaluate(X_test, y_test, verbose=1)\n",
    "print(f\"Validation Loss: {val_loss}\")\n",
    "print(f\"Validation Accuracy: {val_accuracy}\")"
   ]
  }
 ],
 "metadata": {
  "kernelspec": {
   "display_name": "newenv",
   "language": "python",
   "name": "python3"
  },
  "language_info": {
   "codemirror_mode": {
    "name": "ipython",
    "version": 3
   },
   "file_extension": ".py",
   "mimetype": "text/x-python",
   "name": "python",
   "nbconvert_exporter": "python",
   "pygments_lexer": "ipython3",
   "version": "3.11.9"
  }
 },
 "nbformat": 4,
 "nbformat_minor": 2
}
